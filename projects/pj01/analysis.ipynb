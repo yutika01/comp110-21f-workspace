{
 "cells": [
  {
   "cell_type": "markdown",
   "metadata": {},
   "source": [
    "## Hypothesis: Students that are majoring or minoring in computer science are more likely to say the course is valuable than others."
   ]
  },
  {
   "cell_type": "code",
   "execution_count": 1,
   "metadata": {},
   "outputs": [],
   "source": [
    "%reload_ext autoreload\n",
    "%autoreload 2"
   ]
  },
  {
   "cell_type": "markdown",
   "metadata": {},
   "source": [
    "First I will read the survey data and convert it to a column-oriented table."
   ]
  },
  {
   "cell_type": "code",
   "execution_count": 5,
   "metadata": {},
   "outputs": [],
   "source": [
    "from data_utils import read_csv_rows, columnar\n",
    "\n",
    "data_rows: list[dict[str, str]] = read_csv_rows('/Users/yutik/comp110-21f-workspace/data/survey.csv')\n",
    "columns: dict[str, list[str]] = columnar(data_rows)"
   ]
  },
  {
   "cell_type": "markdown",
   "metadata": {},
   "source": [
    "Next, I will select just the relevant columns: comp_major and valuable. "
   ]
  },
  {
   "cell_type": "code",
   "execution_count": 8,
   "metadata": {},
   "outputs": [
    {
     "data": {
      "text/plain": [
       "{'comp_major': ['No', 'No'], 'valuable': ['6', '7']}"
      ]
     },
     "execution_count": 8,
     "metadata": {},
     "output_type": "execute_result"
    }
   ],
   "source": [
    "from data_utils import select, head\n",
    "subset: dict[str, list[str]] = select(columns, [\"comp_major\", \"valuable\"])\n",
    "head(subset, 5)"
   ]
  },
  {
   "cell_type": "markdown",
   "metadata": {},
   "source": [
    "Next I will convert the likert data (ratings 1-7) on how valuable a student finds the course to a numeric type."
   ]
  },
  {
   "cell_type": "markdown",
   "metadata": {},
   "source": [
    "Next I will count the amount of students that consider the class valuable (rating 4-7) and the students that consider the class not valuable (rating 1-3)"
   ]
  },
  {
   "cell_type": "code",
   "execution_count": 14,
   "metadata": {},
   "outputs": [
    {
     "name": "stdout",
     "output_type": "stream",
     "text": [
      "Count of students that find the class valuable: 523\n",
      "Count of students that did not find the class valuable: 50\n"
     ]
    }
   ],
   "source": [
    "from data_utils import count\n",
    "counts = count(subset['valuable'])\n",
    "print(f\"Count of students that find the class valuable: {counts['7'] + counts['6'] + counts['5'] + counts['4']}\")\n",
    "print(f\"Count of students that did not find the class valuable: {counts['1'] + counts['2'] + counts['3']}\")\n",
    "\n",
    "# numeric_subset: dict[str, list[int]] = \n",
    "# for key in subset:\n",
    "    # int(subset[key])"
   ]
  },
  {
   "cell_type": "markdown",
   "metadata": {},
   "source": [
    "Next I will count the amount of students that are not majoring/minoring in Computer Science, and those that are."
   ]
  },
  {
   "cell_type": "code",
   "execution_count": 20,
   "metadata": {},
   "outputs": [
    {
     "ename": "KeyError",
     "evalue": "'Yes - BA'",
     "output_type": "error",
     "traceback": [
      "\u001b[0;31m---------------------------------------------------------------------------\u001b[0m",
      "\u001b[0;31mKeyError\u001b[0m                                  Traceback (most recent call last)",
      "\u001b[0;32m/var/folders/q3/fz_t_m7j0nq16y8k5d5nw0vc0000gn/T/ipykernel_31938/1361845907.py\u001b[0m in \u001b[0;36m<module>\u001b[0;34m\u001b[0m\n\u001b[1;32m      1\u001b[0m \u001b[0mcounts2\u001b[0m \u001b[0;34m=\u001b[0m \u001b[0mcount\u001b[0m\u001b[0;34m(\u001b[0m\u001b[0msubset\u001b[0m\u001b[0;34m[\u001b[0m\u001b[0;34m'comp_major'\u001b[0m\u001b[0;34m]\u001b[0m\u001b[0;34m)\u001b[0m\u001b[0;34m\u001b[0m\u001b[0;34m\u001b[0m\u001b[0m\n\u001b[0;32m----> 2\u001b[0;31m \u001b[0mprint\u001b[0m\u001b[0;34m(\u001b[0m\u001b[0;34mf\"Count of students that are majoring / minoring in Computer Science: {counts2['Yes - BS'] + counts['Yes - BA'] + counts['Yes - Minor']}\"\u001b[0m\u001b[0;34m)\u001b[0m\u001b[0;34m\u001b[0m\u001b[0;34m\u001b[0m\u001b[0m\n\u001b[0m\u001b[1;32m      3\u001b[0m \u001b[0mprint\u001b[0m\u001b[0;34m(\u001b[0m\u001b[0;34mf\"Count of students that are majoring / minoring in Computer Science: {counts2['No']}\"\u001b[0m\u001b[0;34m)\u001b[0m\u001b[0;34m\u001b[0m\u001b[0;34m\u001b[0m\u001b[0m\n",
      "\u001b[0;31mKeyError\u001b[0m: 'Yes - BA'"
     ]
    }
   ],
   "source": [
    "counts2 = count(subset['comp_major'])\n",
    "print(f\"Count of students that are majoring / minoring in Computer Science: {counts2['Yes - BS'] + counts2['Yes - BA'] + counts2['Yes - Minor']}\")\n",
    "print(f\"Count of students that are majoring / minoring in Computer Science: {counts2['No']}\")"
   ]
  },
  {
   "cell_type": "markdown",
   "metadata": {},
   "source": [
    "Next I will plot the two variables on a bar braph to determine their relationship. "
   ]
  }
 ],
 "metadata": {
  "interpreter": {
   "hash": "aee8b7b246df8f9039afb4144a1f6fd8d2ca17a180786b69acc140d282b71a49"
  },
  "kernelspec": {
   "display_name": "Python 3.9.6 64-bit",
   "name": "python3"
  },
  "language_info": {
   "codemirror_mode": {
    "name": "ipython",
    "version": 3
   },
   "file_extension": ".py",
   "mimetype": "text/x-python",
   "name": "python",
   "nbconvert_exporter": "python",
   "pygments_lexer": "ipython3",
   "version": "3.9.6"
  },
  "orig_nbformat": 4
 },
 "nbformat": 4,
 "nbformat_minor": 2
}
