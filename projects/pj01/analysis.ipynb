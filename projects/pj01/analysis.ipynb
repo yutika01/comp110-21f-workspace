{
 "cells": [
  {
   "cell_type": "markdown",
   "metadata": {},
   "source": [
    "## Hypothesis: Students that are majoring or minoring in computer science are more likely to say the course is valuable than others."
   ]
  },
  {
   "cell_type": "markdown",
   "metadata": {},
   "source": [
    "Autoload the code when saving changes. "
   ]
  },
  {
   "cell_type": "code",
   "execution_count": 1,
   "metadata": {},
   "outputs": [],
   "source": [
    "%reload_ext autoreload\n",
    "%autoreload 2"
   ]
  },
  {
   "cell_type": "markdown",
   "metadata": {},
   "source": [
    "First I will read the survey data and convert it to a column-oriented table."
   ]
  },
  {
   "cell_type": "code",
   "execution_count": 1,
   "metadata": {},
   "outputs": [],
   "source": [
    "from data_utils import read_csv_rows, columnar\n",
    "\n",
    "data_rows: list[dict[str, str]] = read_csv_rows('/Users/yutik/comp110-21f-workspace/data/survey.csv')\n",
    "columns: dict[str, list[str]] = columnar(data_rows)"
   ]
  },
  {
   "cell_type": "markdown",
   "metadata": {},
   "source": [
    "Next, I will select just the relevant columns: comp_major and valuable. "
   ]
  },
  {
   "cell_type": "code",
   "execution_count": 2,
   "metadata": {},
   "outputs": [
    {
     "data": {
      "text/plain": [
       "{'comp_major': ['No', 'No'], 'valuable': ['6', '7']}"
      ]
     },
     "execution_count": 2,
     "metadata": {},
     "output_type": "execute_result"
    }
   ],
   "source": [
    "from data_utils import select, head\n",
    "subset: dict[str, list[str]] = select(columns, [\"comp_major\", \"valuable\"])\n",
    "head(subset, 5)"
   ]
  },
  {
   "cell_type": "markdown",
   "metadata": {},
   "source": [
    "Next I will count the amount of students that consider the class valuable (rating 4-7) and the students that consider the class not valuable (rating 1-3)."
   ]
  },
  {
   "cell_type": "code",
   "execution_count": 4,
   "metadata": {},
   "outputs": [
    {
     "name": "stdout",
     "output_type": "stream",
     "text": [
      "Count of students that find the class valuable: 523\n",
      "Count of students that did not find the class valuable: 50\n"
     ]
    }
   ],
   "source": [
    "from data_utils import count\n",
    "counts = count(subset['valuable'])\n",
    "print(f\"Count of students that find the class valuable: {counts['7'] + counts['6'] + counts['5'] + counts['4']}\")\n",
    "print(f\"Count of students that did not find the class valuable: {counts['1'] + counts['2'] + counts['3']}\")"
   ]
  },
  {
   "cell_type": "markdown",
   "metadata": {},
   "source": [
    "Next I will count the amount of students that are not majoring/minoring in Computer Science, and those that are."
   ]
  },
  {
   "cell_type": "code",
   "execution_count": 5,
   "metadata": {},
   "outputs": [
    {
     "name": "stdout",
     "output_type": "stream",
     "text": [
      "Count of students that are majoring / minoring in Computer Science: 169\n",
      "Count of students that are not majoring / minoring in Computer Science: 404\n"
     ]
    }
   ],
   "source": [
    "counts2 = count(subset['comp_major'])\n",
    "majors_minors: int = counts2['Yes - BS'] + counts2['Yes - BA'] + counts2['Yes - Minor']\n",
    "no_majors_minors: int = counts2['No']\n",
    "print(f\"Count of students that are majoring / minoring in Computer Science: {majors_minors}\")\n",
    "print(f\"Count of students that are not majoring / minoring in Computer Science: {no_majors_minors}\")"
   ]
  },
  {
   "cell_type": "markdown",
   "metadata": {},
   "source": [
    "Next I will convert the likert data (ratings 1-7) on how valuable a student finds the course to a numeric type."
   ]
  },
  {
   "cell_type": "code",
   "execution_count": 6,
   "metadata": {},
   "outputs": [
    {
     "data": {
      "text/plain": [
       "{'comp_major': ['No', 'No'], 'valuable': ['6', '7']}"
      ]
     },
     "execution_count": 6,
     "metadata": {},
     "output_type": "execute_result"
    }
   ],
   "source": [
    "for each in subset['valuable']:\n",
    "    if each != \"\":\n",
    "        each = int(each)\n",
    "head(subset, 5)"
   ]
  },
  {
   "cell_type": "markdown",
   "metadata": {},
   "source": [
    "Next I will plot the two variables on a bar braph to determine their relationship. "
   ]
  },
  {
   "cell_type": "code",
   "execution_count": 7,
   "metadata": {},
   "outputs": [
    {
     "data": {
      "image/png": "[encoded data removed]",
      "text/plain": [
       "<Figure size 432x288 with 1 Axes>"
      ]
     },
     "metadata": {
      "needs_background": "light"
     },
     "output_type": "display_data"
    }
   ],
   "source": [
    "import matplotlib.pyplot as plt\n",
    "import numpy as np\n",
    "import matplotlib.pyplot as plt\n",
    "\n",
    "labels = ['Majoring/Minoring', 'Not Majoring/Minoring']\n",
    "y_pos = [0, 1]\n",
    "values = [majors_minors, no_majors_minors]\n",
    "\n",
    "plt.bar(y_pos, values, align='center', alpha=0.5)\n",
    "plt.xticks(y_pos, labels)\n",
    "plt.ylabel('Frequency')\n",
    "plt.title('Students majoring/minoring in computer science')\n",
    "\n",
    "plt.show()"
   ]
  },
  {
   "cell_type": "markdown",
   "metadata": {},
   "source": [
    "Create a list that only includes students that are majoring/minoring in computer science, and one that only includes students that are not majoring in computer science."
   ]
  },
  {
   "cell_type": "code",
   "execution_count": 8,
   "metadata": {},
   "outputs": [],
   "source": [
    "yes_subset: list[int] = []\n",
    "no_subset: list[int] = []\n",
    "i: int = 0\n",
    "for item in subset['comp_major']:\n",
    "    if item != 'No':\n",
    "        yes_subset.append(int(subset['valuable'][i]))\n",
    "    else:\n",
    "        no_subset.append(int(subset['valuable'][i]))\n",
    "    i += 1"
   ]
  },
  {
   "cell_type": "markdown",
   "metadata": {},
   "source": [
    "Function to count the amount of times a rating appears in the yes_subset. "
   ]
  },
  {
   "cell_type": "code",
   "execution_count": 9,
   "metadata": {},
   "outputs": [],
   "source": [
    "def yesrating(comp_degree: list[int]) -> dict[int]:\n",
    "    comp_counts = count(comp_degree)\n",
    "    i = 1\n",
    "    while i <= 7:\n",
    "        if i not in comp_counts:\n",
    "            comp_counts[i] = 0\n",
    "        i += 1\n",
    "    return comp_counts"
   ]
  },
  {
   "cell_type": "markdown",
   "metadata": {},
   "source": [
    "Bar graph to depict the relationship between Majoring/Minoring in Computer Science and ratings on how valuable the class is."
   ]
  },
  {
   "cell_type": "code",
   "execution_count": 10,
   "metadata": {},
   "outputs": [
    {
     "data": {
      "image/png": "[encoded data removed]",
      "text/plain": [
       "<Figure size 432x288 with 1 Axes>"
      ]
     },
     "metadata": {
      "needs_background": "light"
     },
     "output_type": "display_data"
    }
   ],
   "source": [
    "yes_labels = ['1', '2', '3', '4', '5', '6', '7']\n",
    "yes_y_pos = [0, 1, 2, 3, 4, 5, 6]\n",
    "counts_yes = yesrating(yes_subset)\n",
    "yes_values = [counts_yes[1], counts_yes[2], counts_yes[3], counts_yes[4], counts_yes[5], counts_yes[6], counts_yes[7]]\n",
    "\n",
    "plt.bar(yes_y_pos, yes_values, align='center', alpha=0.5)\n",
    "plt.xticks(yes_y_pos, yes_labels)\n",
    "plt.xlabel('Valuable Rating')\n",
    "plt.ylabel('Frequency')\n",
    "plt.title('Majoring/Minoring in Computer Science vs. Valuable Ratings')\n",
    "\n",
    "plt.show()"
   ]
  },
  {
   "cell_type": "markdown",
   "metadata": {},
   "source": [
    "Bar graph to depict the relationship between not Majoring/Minoring in Computer Science and ratings on how valuable the class is."
   ]
  },
  {
   "cell_type": "code",
   "execution_count": 11,
   "metadata": {},
   "outputs": [
    {
     "data": {
      "image/png": "[encoded data removed]",
      "text/plain": [
       "<Figure size 432x288 with 1 Axes>"
      ]
     },
     "metadata": {
      "needs_background": "light"
     },
     "output_type": "display_data"
    }
   ],
   "source": [
    "no_labels = ['1', '2', '3', '4', '5', '6', '7']\n",
    "no_y_pos = [0, 1, 2, 3, 4, 5, 6]\n",
    "counts_no = count(no_subset)\n",
    "no_values = [counts_no[1], counts_no[2], counts_no[3], counts_no[4], counts_no[5], counts_no[6], counts_no[7]]\n",
    "\n",
    "plt.bar(no_y_pos, no_values, align='center', alpha=0.5)\n",
    "plt.xticks(no_y_pos, no_labels)\n",
    "plt.xlabel('Valuable Rating')\n",
    "plt.ylabel('Frequency')\n",
    "plt.title('Not Majoring/Minoring in Computer Science vs. Valuable Ratings')\n",
    "\n",
    "plt.show()"
   ]
  },
  {
   "cell_type": "markdown",
   "metadata": {},
   "source": [
    "## Conclusion\n",
    "\n",
    "No students majoring or minoring in Computer Science stated that COMP110 was not valuable, or gave a rating below 4 on the survey. However, about 50 students not majoring or minoring in Computer Science stated that COMP110 was not valuable. This might be because the students are more likely to be able to apply the material in the future and are more interested in the material. "
   ]
  }
 ],
 "metadata": {
  "interpreter": {
   "hash": "aee8b7b246df8f9039afb4144a1f6fd8d2ca17a180786b69acc140d282b71a49"
  },
  "kernelspec": {
   "display_name": "Python 3.9.6 64-bit",
   "name": "python3"
  },
  "language_info": {
   "codemirror_mode": {
    "name": "ipython",
    "version": 3
   },
   "file_extension": ".py",
   "mimetype": "text/x-python",
   "name": "python",
   "nbconvert_exporter": "python",
   "pygments_lexer": "ipython3",
   "version": "3.9.6"
  },
  "orig_nbformat": 4
 },
 "nbformat": 4,
 "nbformat_minor": 2
}
